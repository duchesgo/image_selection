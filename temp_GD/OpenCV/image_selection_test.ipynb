{
 "cells": [
  {
   "cell_type": "code",
   "execution_count": 9,
   "metadata": {},
   "outputs": [],
   "source": [
    "import cv2\n",
    "import sys"
   ]
  },
  {
   "cell_type": "code",
   "execution_count": 15,
   "id": "9a96c06d",
   "metadata": {},
   "outputs": [],
   "source": [
    "# Get user supplied values\n",
    "imagePath = 'abba.png'\n",
    "cascPath = 'haarcascade_frontalface_default.xml'"
   ]
  },
  {
   "cell_type": "code",
   "execution_count": 16,
   "id": "e5f33dc5",
   "metadata": {},
   "outputs": [
    {
     "name": "stdout",
     "output_type": "stream",
     "text": [
      "abba.png haarcascade_frontalface_default.xml\n"
     ]
    }
   ],
   "source": [
    "print(imagePath, cascPath)"
   ]
  },
  {
   "cell_type": "code",
   "execution_count": 17,
   "id": "542f4f2f",
   "metadata": {},
   "outputs": [
    {
     "ename": "SystemError",
     "evalue": "<class 'cv2.CascadeClassifier'> returned a result with an exception set",
     "output_type": "error",
     "traceback": [
      "\u001b[0;31m---------------------------------------------------------------------------\u001b[0m",
      "\u001b[0;31merror\u001b[0m                                     Traceback (most recent call last)",
      "\u001b[0;31merror\u001b[0m: OpenCV(4.6.0) /io/opencv/modules/core/src/persistence.cpp:692: error: (-5:Bad argument) Input file is invalid in function 'open'\n",
      "\nThe above exception was the direct cause of the following exception:\n",
      "\u001b[0;31mSystemError\u001b[0m                               Traceback (most recent call last)",
      "Cell \u001b[0;32mIn[17], line 2\u001b[0m\n\u001b[1;32m      1\u001b[0m \u001b[39m# Create the haar cascade\u001b[39;00m\n\u001b[0;32m----> 2\u001b[0m faceCascade \u001b[39m=\u001b[39m cv2\u001b[39m.\u001b[39;49mCascadeClassifier(cascPath)\n",
      "\u001b[0;31mSystemError\u001b[0m: <class 'cv2.CascadeClassifier'> returned a result with an exception set"
     ]
    }
   ],
   "source": [
    "# Create the haar cascade\n",
    "faceCascade = cv2.CascadeClassifier(cascPath)"
   ]
  },
  {
   "cell_type": "code",
   "execution_count": 18,
   "id": "4224dc14",
   "metadata": {},
   "outputs": [
    {
     "ename": "error",
     "evalue": "OpenCV(4.6.0) /io/opencv/modules/imgproc/src/color.cpp:182: error: (-215:Assertion failed) !_src.empty() in function 'cvtColor'\n",
     "output_type": "error",
     "traceback": [
      "\u001b[0;31m---------------------------------------------------------------------------\u001b[0m",
      "\u001b[0;31merror\u001b[0m                                     Traceback (most recent call last)",
      "Cell \u001b[0;32mIn[18], line 3\u001b[0m\n\u001b[1;32m      1\u001b[0m \u001b[39m# Read the image\u001b[39;00m\n\u001b[1;32m      2\u001b[0m image \u001b[39m=\u001b[39m cv2\u001b[39m.\u001b[39mimread(imagePath)\n\u001b[0;32m----> 3\u001b[0m gray \u001b[39m=\u001b[39m cv2\u001b[39m.\u001b[39;49mcvtColor(image, cv2\u001b[39m.\u001b[39;49mCOLOR_BGR2GRAY)\n",
      "\u001b[0;31merror\u001b[0m: OpenCV(4.6.0) /io/opencv/modules/imgproc/src/color.cpp:182: error: (-215:Assertion failed) !_src.empty() in function 'cvtColor'\n"
     ]
    }
   ],
   "source": [
    "# Read the image\n",
    "image = cv2.imread(imagePath)\n",
    "gray = cv2.cvtColor(image, cv2.COLOR_BGR2GRAY)"
   ]
  },
  {
   "cell_type": "code",
   "execution_count": null,
   "id": "2054835a",
   "metadata": {},
   "outputs": [
    {
     "ename": "NameError",
     "evalue": "name 'gray' is not defined",
     "output_type": "error",
     "traceback": [
      "\u001b[0;31m---------------------------------------------------------------------------\u001b[0m",
      "\u001b[0;31mNameError\u001b[0m                                 Traceback (most recent call last)",
      "Cell \u001b[0;32mIn[7], line 5\u001b[0m\n\u001b[1;32m      1\u001b[0m \u001b[39m# Detect faces in the image\u001b[39;00m\n\u001b[1;32m      2\u001b[0m \u001b[39m# xxxsss prévoir un paramétrage / itération pour optimiser scaleFactor, minneighbors, minSize\u001b[39;00m\n\u001b[1;32m      3\u001b[0m \u001b[39m# xxxsss semble retourner une liste de carrés contenant l'objet cherché\u001b[39;00m\n\u001b[1;32m      4\u001b[0m faces \u001b[39m=\u001b[39m faceCascade\u001b[39m.\u001b[39mdetectMultiScale(\n\u001b[0;32m----> 5\u001b[0m     gray,\n\u001b[1;32m      6\u001b[0m     scaleFactor\u001b[39m=\u001b[39m\u001b[39m1.1\u001b[39m,   \u001b[39m# compense pour les visages plus ou moins proches de l'objectif\u001b[39;00m\n\u001b[1;32m      7\u001b[0m     minNeighbors\u001b[39m=\u001b[39m\u001b[39m5\u001b[39m,    \u001b[39m# Nb de voisins pour reconnaître un objet ; pas clair\u001b[39;00m\n\u001b[1;32m      8\u001b[0m     minSize\u001b[39m=\u001b[39m(\u001b[39m30\u001b[39m, \u001b[39m30\u001b[39m),  \u001b[39m# Taille de chaque fenêtre précédente ; pas clair\u001b[39;00m\n\u001b[1;32m      9\u001b[0m     flags \u001b[39m=\u001b[39m cv2\u001b[39m.\u001b[39mcv\u001b[39m.\u001b[39mCV_HAAR_SCALE_IMAGE\n\u001b[1;32m     10\u001b[0m )\n",
      "\u001b[0;31mNameError\u001b[0m: name 'gray' is not defined"
     ]
    }
   ],
   "source": [
    "# Detect faces in the image\n",
    "# xxxsss prévoir un paramétrage / itération pour optimiser scaleFactor, minneighbors, minSize\n",
    "# xxxsss semble retourner une liste de carrés contenant l'objet cherché\n",
    "faces = faceCascade.detectMultiScale(\n",
    "    gray,\n",
    "    scaleFactor=1.1,   # compense pour les visages plus ou moins proches de l'objectif\n",
    "    minNeighbors=5,    # Nb de voisins pour reconnaître un objet ; pas clair\n",
    "    minSize=(30, 30),  # Taille de chaque fenêtre précédente ; pas clair\n",
    "    flags = cv2.cv.CV_HAAR_SCALE_IMAGE\n",
    ")\n"
   ]
  },
  {
   "cell_type": "code",
   "execution_count": null,
   "id": "bc80542b",
   "metadata": {},
   "outputs": [],
   "source": [
    "print \"Found {0} faces!\".format(len(faces))\n",
    "\n",
    "# Draw a rectangle around the faces\n",
    "for (x, y, w, h) in faces:\n",
    "    cv2.rectangle(image, (x, y), (x+w, y+h), (0, 255, 0), 2)"
   ]
  },
  {
   "cell_type": "code",
   "execution_count": null,
   "id": "f20b300a",
   "metadata": {},
   "outputs": [],
   "source": [
    "cv2.imshow(\"Faces found\", image)\n",
    "cv2.waitKey(0)"
   ]
  }
 ],
 "metadata": {
  "kernelspec": {
   "display_name": "Python 3.10.6 64-bit ('image_selection')",
   "language": "python",
   "name": "python3"
  },
  "language_info": {
   "codemirror_mode": {
    "name": "ipython",
    "version": 3
   },
   "file_extension": ".py",
   "mimetype": "text/x-python",
   "name": "python",
   "nbconvert_exporter": "python",
   "pygments_lexer": "ipython3",
   "version": "3.10.6"
  },
  "vscode": {
   "interpreter": {
    "hash": "8e41fcc1f6a6533fbe4513b0647f9e173c4e343bc92f78f585e026af2f9c941d"
   }
  }
 },
 "nbformat": 4,
 "nbformat_minor": 5
}
